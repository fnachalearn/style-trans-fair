{
 "cells": [
  {
   "attachments": {},
   "cell_type": "markdown",
   "metadata": {},
   "source": [
    "<div style=\"background:#FFFFFF\">\n",
    "<img src=\"logo.jpg\">\n",
    "\n",
    "<h1>Starting Kit - Style-Trans-Fair </h1>\n",
    "<p>\n",
    "This starting kit will guide you step by step and will walk you through the data statistics and<br>\n",
    "examples. This will give you a clear idea of what this challenge is about and how you can<br>\n",
    "proceed further to solve the challenge.\n",
    "</p>\n",
    "\n",
    "<br><br>\n",
    "<hr style='background-color: #D3D3D3; height: 1px; border: 0;'>\n",
    "<p>\n",
    "This code was tested with Python 3.8.5 |Anaconda custom (64-bit)| (default, Dec 23 2020, 21:19:02) (https://anaconda.org/)<br>\n",
    "</p>\n",
    "<hr style='background-color: #D3D3D3; height: 1px; border: 0;'>\n",
    "    \n",
    "<p>\n",
    "ALL INFORMATION, SOFTWARE, DOCUMENTATION, AND DATA ARE PROVIDED \"AS-IS\". The CHALEARN, AND/OR OTHER ORGANIZERS OR CODE AUTHORS DISCLAIM ANY EXPRESSED OR IMPLIED WARRANTIES, INCLUDING, BUT NOT LIMITED TO, THE IMPLIED WARRANTIES OF MERCHANTABILITY AND FITNESS FOR ANY PARTICULAR PURPOSE, AND THE WARRANTY OF NON-INFRIGEMENT OF ANY THIRD PARTY'S INTELLECTUAL PROPERTY RIGHTS. IN NO EVENT SHALL AUTHORS AND ORGANIZERS BE LIABLE FOR ANY SPECIAL, \n",
    "INDIRECT OR CONSEQUENTIAL DAMAGES OR ANY DAMAGES WHATSOEVER ARISING OUT OF OR IN CONNECTION WITH THE USE OR PERFORMANCE OF SOFTWARE, DOCUMENTS, MATERIALS, PUBLICATIONS, OR INFORMATION MADE AVAILABLE FOR THE CHALLENGE. \n",
    "</p>\n",
    "\n",
    "<hr style='background-color: #D3D3D3; height: 1px; border: 0;'>\n",
    "    <p>\n",
    "This challenge was organized by <b>Team Fairness National Assembly</b> of <b><a style='color:#4D6605;' href='http://www.chalearn.org/'>ChaLearn</a></b>  at <b><a style='color: #62023C;' href='https://www.universite-paris-saclay.fr/'>Université Paris Saclay</a></b>\n",
    "</p>\n",
    "</div>\n",
    "\n",
    "<hr style='background-color: #D3D3D3; height: 1px; border: 0;'>"
   ]
  },
  {
   "attachments": {},
   "cell_type": "markdown",
   "metadata": {},
   "source": [
    "***\n",
    "# Introduction\n",
    "\n",
    "This challenge uses a Dataset from ***Meta Album***. There are 5 tasks in the Development phase and 5 tasks in the Final Phase.\n",
    "Each task in the dataset consists of **360** images splited into 9 groups:\n",
    "\n",
    "\n",
    "<center>\n",
    "<img src=\"task_distribution.png\" width=\"1200\"/>\n",
    "</center>\n",
    "\n",
    "where the training set is biased in Style, and the test set is balanced.\n",
    "\n",
    "The sample dataset in this starting kit conists of **360** images of the Insect classification task.\n",
    "    \n",
    "This challenge is about creating a Machine Learning model and train it with the data provided to classify the images into the mentioned 3 Classes without being biased towards Styles.\n",
    "\n",
    "\n",
    "**References and credits:**  \n",
    " - Meta Album (https://meta-album.github.io/)  \n",
    " - Université Paris Saclay (https://www.universite-paris-saclay.fr/)  \n",
    " - ChaLearn (http://www.chalearn.org/)  \n",
    "***"
   ]
  },
  {
   "attachments": {},
   "cell_type": "markdown",
   "metadata": {},
   "source": [
    "### Install required packages"
   ]
  },
  {
   "cell_type": "code",
   "execution_count": 1,
   "metadata": {},
   "outputs": [],
   "source": [
    "# !pip install -r requirements.txt"
   ]
  },
  {
   "cell_type": "markdown",
   "metadata": {},
   "source": [
    "### Imports"
   ]
  },
  {
   "cell_type": "code",
   "execution_count": 2,
   "metadata": {},
   "outputs": [],
   "source": [
    "# import the necessary libraries\n",
    "import pandas as pd\n",
    "import numpy as np\n",
    "import matplotlib.pyplot as plt\n",
    "import seaborn as sns\n",
    "from IPython.display import display, Image\n",
    "from PIL import Image\n",
    "from sklearn.decomposition import PCA"
   ]
  },
  {
   "cell_type": "code",
   "execution_count": 80,
   "metadata": {},
   "outputs": [
    {
     "name": "stdout",
     "output_type": "stream",
     "text": [
      "The autoreload extension is already loaded. To reload it, use:\n",
      "  %reload_ext autoreload\n"
     ]
    }
   ],
   "source": [
    "model_dir = 'sample_code_submission/' # Change the model to a better one once you have one!\n",
    "result_dir = 'sample_result_submission/' \n",
    "problem_dir = 'ingestion_program/'  \n",
    "score_dir = 'scoring_program/'\n",
    "from sys import path; path.append(model_dir); path.append(problem_dir); path.append(score_dir); \n",
    "%matplotlib inline\n",
    "# Uncomment the next lines to auto-reload libraries (this causes some problem with pickles in Python 3)\n",
    "%load_ext autoreload\n",
    "%autoreload 2\n",
    "import seaborn as sns; sns.set()\n",
    "import warnings\n",
    "warnings.simplefilter(action='ignore', category=FutureWarning)"
   ]
  },
  {
   "cell_type": "code",
   "execution_count": 4,
   "metadata": {},
   "outputs": [],
   "source": [
    "%reload_ext autoreload"
   ]
  },
  {
   "attachments": {},
   "cell_type": "markdown",
   "metadata": {},
   "source": [
    "***\n",
    "# Step 1: Exploratory data analysis\n",
    "We provide `sample_data` with the starting kit, but to prepare your submission, you must fetch the `public_data` from the challenge website and point to it.\n",
    "\n",
    "The data used for this challenge has images resized into 512x512 pixels."
   ]
  },
  {
   "cell_type": "code",
   "execution_count": 5,
   "metadata": {},
   "outputs": [],
   "source": [
    "data_name = 'insect_challenge' # DO NOT CHANGE\n",
    "data_dir = 'sample_data/task1' # Change it to point to the directory with public_data\n",
    "image_dir = data_dir + '/stylized/'\n",
    "# !ls $data_dir*"
   ]
  },
  {
   "cell_type": "markdown",
   "metadata": {},
   "source": [
    "### Load Data"
   ]
  },
  {
   "cell_type": "code",
   "execution_count": 38,
   "metadata": {},
   "outputs": [
    {
     "name": "stdout",
     "output_type": "stream",
     "text": [
      "###-------------------------------------###\n",
      "### Checking Data\n",
      "###-------------------------------------###\n",
      "\n",
      "\n",
      "-------------------------------------\n",
      "[+] Your dataset is in perfect format\n",
      "-------------------------------------\n",
      "\n",
      "\n",
      "###-------------------------------------###\n",
      "### Loading Data\n",
      "###-------------------------------------###\n",
      "\n",
      "\n",
      "-------------------------------------\n",
      "[+] Data loaded successfully\n",
      "-------------------------------------\n",
      "\n",
      "\n",
      "###-------------------------------------###\n",
      "### Loading Images\n",
      "###-------------------------------------###\n",
      "\n",
      "\n",
      "-------------------------------------\n",
      "[+] Images loaded successfully\n",
      "-------------------------------------\n",
      "\n",
      "\n"
     ]
    },
    {
     "name": "stderr",
     "output_type": "stream",
     "text": [
      "/Users/ktgiahieu/Documents/style-trans-fair/starting_kit/ingestion_program/data_io.py:248: VisibleDeprecationWarning: Creating an ndarray from ragged nested sequences (which is a list-or-tuple of lists-or-tuples-or ndarrays with different lengths or shapes) is deprecated. If you meant to do this, you must specify 'dtype=object' when creating the ndarray.\n",
      "  \n",
      "/Users/ktgiahieu/Documents/style-trans-fair/starting_kit/ingestion_program/data_io.py:249: VisibleDeprecationWarning: Creating an ndarray from ragged nested sequences (which is a list-or-tuple of lists-or-tuples-or ndarrays with different lengths or shapes) is deprecated. If you meant to do this, you must specify 'dtype=object' when creating the ndarray.\n",
      "  return data_dict, info\n"
     ]
    }
   ],
   "source": [
    "from data_io import read_data\n",
    "data, meta_data = read_data(data_dir)"
   ]
  },
  {
   "cell_type": "markdown",
   "metadata": {},
   "source": [
    "### Data Statistics"
   ]
  },
  {
   "cell_type": "code",
   "execution_count": 39,
   "metadata": {},
   "outputs": [
    {
     "name": "stdout",
     "output_type": "stream",
     "text": [
      "Categories/Classes :  ['Apoidea' 'Elateroidea' 'Tenthredinoidea']\n",
      "Styles :  ['autumn_leaves' 'number_one' 'trippy_flowers']\n",
      "Train Images: 60\n",
      "Test Images: 180\n"
     ]
    }
   ],
   "source": [
    "print(\"Categories/Classes : \", np.unique(data['train_labels']))\n",
    "print(\"Styles : \", np.unique(data['train_styles']))\n",
    "print(\"Train Images:\", len(data['train_images']))\n",
    "print(\"Test Images:\", len(data['test_images']))"
   ]
  },
  {
   "attachments": {},
   "cell_type": "markdown",
   "metadata": {},
   "source": [
    "### Metadata"
   ]
  },
  {
   "cell_type": "code",
   "execution_count": 40,
   "metadata": {},
   "outputs": [
    {
     "name": "stdout",
     "output_type": "stream",
     "text": [
      "dataset_name  :  STYLE-TRANSFER-FAIR\n",
      "dataset_description  :  \n",
      "total_categories  :  0\n",
      "total_super_categories  :  0\n",
      "total_styles  :  3\n",
      "number_of_images_per_category  :  0\n",
      "number_of_images_per_style  :  0\n",
      "number_of_images_per_dominant_group  :  0\n",
      "has_super_categories  :  False\n",
      "image_column_name  :  FILE_NAME\n",
      "orig_category_image_column_name  :  ORIG_CATEGORY_FILE\n",
      "orig_style_image_column_name  :  ORIG_STYLE_FILE\n",
      "category_column_name  :  CATEGORY\n",
      "super_category_column_name  :  SUPER_CATEGORY\n",
      "style_column_name  :  STYLE\n"
     ]
    }
   ],
   "source": [
    "for key, value in meta_data.items():\n",
    "    print(key, \" : \", value)"
   ]
  },
  {
   "cell_type": "markdown",
   "metadata": {},
   "source": [
    "### Distribution of Classes/Labels"
   ]
  },
  {
   "attachments": {},
   "cell_type": "markdown",
   "metadata": {},
   "source": [
    "#### Train"
   ]
  },
  {
   "cell_type": "code",
   "execution_count": 41,
   "metadata": {},
   "outputs": [
    {
     "data": {
      "text/html": [
       "<div>\n",
       "<style scoped>\n",
       "    .dataframe tbody tr th:only-of-type {\n",
       "        vertical-align: middle;\n",
       "    }\n",
       "\n",
       "    .dataframe tbody tr th {\n",
       "        vertical-align: top;\n",
       "    }\n",
       "\n",
       "    .dataframe thead th {\n",
       "        text-align: right;\n",
       "    }\n",
       "</style>\n",
       "<table border=\"1\" class=\"dataframe\">\n",
       "  <thead>\n",
       "    <tr style=\"text-align: right;\">\n",
       "      <th></th>\n",
       "      <th>CATEGORY</th>\n",
       "      <th>STYLE</th>\n",
       "      <th>COUNT</th>\n",
       "    </tr>\n",
       "  </thead>\n",
       "  <tbody>\n",
       "    <tr>\n",
       "      <th>0</th>\n",
       "      <td>Apoidea</td>\n",
       "      <td>autumn_leaves</td>\n",
       "      <td>4</td>\n",
       "    </tr>\n",
       "    <tr>\n",
       "      <th>1</th>\n",
       "      <td>Apoidea</td>\n",
       "      <td>number_one</td>\n",
       "      <td>4</td>\n",
       "    </tr>\n",
       "    <tr>\n",
       "      <th>2</th>\n",
       "      <td>Apoidea</td>\n",
       "      <td>trippy_flowers</td>\n",
       "      <td>12</td>\n",
       "    </tr>\n",
       "    <tr>\n",
       "      <th>3</th>\n",
       "      <td>Elateroidea</td>\n",
       "      <td>autumn_leaves</td>\n",
       "      <td>4</td>\n",
       "    </tr>\n",
       "    <tr>\n",
       "      <th>4</th>\n",
       "      <td>Elateroidea</td>\n",
       "      <td>number_one</td>\n",
       "      <td>12</td>\n",
       "    </tr>\n",
       "    <tr>\n",
       "      <th>5</th>\n",
       "      <td>Elateroidea</td>\n",
       "      <td>trippy_flowers</td>\n",
       "      <td>4</td>\n",
       "    </tr>\n",
       "    <tr>\n",
       "      <th>6</th>\n",
       "      <td>Tenthredinoidea</td>\n",
       "      <td>autumn_leaves</td>\n",
       "      <td>12</td>\n",
       "    </tr>\n",
       "    <tr>\n",
       "      <th>7</th>\n",
       "      <td>Tenthredinoidea</td>\n",
       "      <td>number_one</td>\n",
       "      <td>4</td>\n",
       "    </tr>\n",
       "    <tr>\n",
       "      <th>8</th>\n",
       "      <td>Tenthredinoidea</td>\n",
       "      <td>trippy_flowers</td>\n",
       "      <td>4</td>\n",
       "    </tr>\n",
       "  </tbody>\n",
       "</table>\n",
       "</div>"
      ],
      "text/plain": [
       "          CATEGORY           STYLE  COUNT\n",
       "0          Apoidea   autumn_leaves      4\n",
       "1          Apoidea      number_one      4\n",
       "2          Apoidea  trippy_flowers     12\n",
       "3      Elateroidea   autumn_leaves      4\n",
       "4      Elateroidea      number_one     12\n",
       "5      Elateroidea  trippy_flowers      4\n",
       "6  Tenthredinoidea   autumn_leaves     12\n",
       "7  Tenthredinoidea      number_one      4\n",
       "8  Tenthredinoidea  trippy_flowers      4"
      ]
     },
     "execution_count": 41,
     "metadata": {},
     "output_type": "execute_result"
    }
   ],
   "source": [
    "grouped = data['train_df'].groupby([\"CATEGORY\", \"STYLE\"]).size().reset_index(name=\"COUNT\")\n",
    "grouped"
   ]
  },
  {
   "cell_type": "code",
   "execution_count": 42,
   "metadata": {},
   "outputs": [
    {
     "data": {
      "image/png": "[encoded data removed]",
      "text/plain": [
       "<Figure size 640x480 with 2 Axes>"
      ]
     },
     "metadata": {},
     "output_type": "display_data"
    }
   ],
   "source": [
    "# Create the heatmap visualization for category and style\n",
    "sns.heatmap(grouped.pivot(\"CATEGORY\", \"STYLE\", \"COUNT\"), cmap=\"crest\", annot=True, linewidths=1, linecolor='black')\n",
    "plt.title('Heatmap visualization for category and style')\n",
    "plt.xticks(rotation=45)\n",
    "# Show the plot\n",
    "plt.show()"
   ]
  },
  {
   "attachments": {},
   "cell_type": "markdown",
   "metadata": {},
   "source": [
    "#### Test"
   ]
  },
  {
   "cell_type": "code",
   "execution_count": 43,
   "metadata": {},
   "outputs": [
    {
     "data": {
      "text/html": [
       "<div>\n",
       "<style scoped>\n",
       "    .dataframe tbody tr th:only-of-type {\n",
       "        vertical-align: middle;\n",
       "    }\n",
       "\n",
       "    .dataframe tbody tr th {\n",
       "        vertical-align: top;\n",
       "    }\n",
       "\n",
       "    .dataframe thead th {\n",
       "        text-align: right;\n",
       "    }\n",
       "</style>\n",
       "<table border=\"1\" class=\"dataframe\">\n",
       "  <thead>\n",
       "    <tr style=\"text-align: right;\">\n",
       "      <th></th>\n",
       "      <th>CATEGORY</th>\n",
       "      <th>STYLE</th>\n",
       "      <th>COUNT</th>\n",
       "    </tr>\n",
       "  </thead>\n",
       "  <tbody>\n",
       "    <tr>\n",
       "      <th>0</th>\n",
       "      <td>Apoidea</td>\n",
       "      <td>autumn_leaves</td>\n",
       "      <td>20</td>\n",
       "    </tr>\n",
       "    <tr>\n",
       "      <th>1</th>\n",
       "      <td>Apoidea</td>\n",
       "      <td>number_one</td>\n",
       "      <td>20</td>\n",
       "    </tr>\n",
       "    <tr>\n",
       "      <th>2</th>\n",
       "      <td>Apoidea</td>\n",
       "      <td>trippy_flowers</td>\n",
       "      <td>20</td>\n",
       "    </tr>\n",
       "    <tr>\n",
       "      <th>3</th>\n",
       "      <td>Elateroidea</td>\n",
       "      <td>autumn_leaves</td>\n",
       "      <td>20</td>\n",
       "    </tr>\n",
       "    <tr>\n",
       "      <th>4</th>\n",
       "      <td>Elateroidea</td>\n",
       "      <td>number_one</td>\n",
       "      <td>20</td>\n",
       "    </tr>\n",
       "    <tr>\n",
       "      <th>5</th>\n",
       "      <td>Elateroidea</td>\n",
       "      <td>trippy_flowers</td>\n",
       "      <td>20</td>\n",
       "    </tr>\n",
       "    <tr>\n",
       "      <th>6</th>\n",
       "      <td>Tenthredinoidea</td>\n",
       "      <td>autumn_leaves</td>\n",
       "      <td>20</td>\n",
       "    </tr>\n",
       "    <tr>\n",
       "      <th>7</th>\n",
       "      <td>Tenthredinoidea</td>\n",
       "      <td>number_one</td>\n",
       "      <td>20</td>\n",
       "    </tr>\n",
       "    <tr>\n",
       "      <th>8</th>\n",
       "      <td>Tenthredinoidea</td>\n",
       "      <td>trippy_flowers</td>\n",
       "      <td>20</td>\n",
       "    </tr>\n",
       "  </tbody>\n",
       "</table>\n",
       "</div>"
      ],
      "text/plain": [
       "          CATEGORY           STYLE  COUNT\n",
       "0          Apoidea   autumn_leaves     20\n",
       "1          Apoidea      number_one     20\n",
       "2          Apoidea  trippy_flowers     20\n",
       "3      Elateroidea   autumn_leaves     20\n",
       "4      Elateroidea      number_one     20\n",
       "5      Elateroidea  trippy_flowers     20\n",
       "6  Tenthredinoidea   autumn_leaves     20\n",
       "7  Tenthredinoidea      number_one     20\n",
       "8  Tenthredinoidea  trippy_flowers     20"
      ]
     },
     "execution_count": 43,
     "metadata": {},
     "output_type": "execute_result"
    }
   ],
   "source": [
    "grouped = data['test_df'].groupby([\"CATEGORY\", \"STYLE\"]).size().reset_index(name=\"COUNT\")\n",
    "grouped"
   ]
  },
  {
   "cell_type": "code",
   "execution_count": 44,
   "metadata": {},
   "outputs": [
    {
     "data": {
      "image/png": "[encoded data removed]",
      "text/plain": [
       "<Figure size 640x480 with 2 Axes>"
      ]
     },
     "metadata": {},
     "output_type": "display_data"
    }
   ],
   "source": [
    "# Create the heatmap visualization for category and style\n",
    "sns.heatmap(grouped.pivot(\"CATEGORY\", \"STYLE\", \"COUNT\"), cmap=\"crest\", annot=True, linewidths=1, linecolor='black')\n",
    "plt.title('Heatmap visualization for category and style')\n",
    "plt.xticks(rotation=45)\n",
    "# Show the plot\n",
    "plt.show()"
   ]
  },
  {
   "cell_type": "markdown",
   "metadata": {},
   "source": [
    "### Visualization"
   ]
  },
  {
   "cell_type": "code",
   "execution_count": 34,
   "metadata": {},
   "outputs": [],
   "source": [
    "def show_figure(label, df):\n",
    "    \"\"\"\n",
    "    plot ROWS*COLS random picture according to the given label.\n",
    "    :param label: the category name\n",
    "    :return: None\n",
    "    >>> show_figure('Apoidea')\n",
    "    ...\n",
    "    >>> show_figure('Tenthredinoidea')\n",
    "    ...\n",
    "    \"\"\"\n",
    "    ROWS, COLS = 3,3\n",
    "    new_sample = df.where(df[\"CATEGORY\"] == label).dropna().sample(ROWS*COLS, random_state=2021)\n",
    "    fig, ax = plt.subplots(ROWS, COLS, figsize=(20, 20))\n",
    "    newsize = (512, 512)\n",
    "    ax = ax.flatten()\n",
    "    fig.suptitle(f'{ROWS*COLS} random pictures for {label} with their correspondence style')\n",
    "\n",
    "    for a,pic,style in zip(ax,new_sample['FILE_NAME'], new_sample['STYLE']):\n",
    "        img = Image.open(image_dir+pic)\n",
    "        a.imshow(img)\n",
    "        a.axis('off')\n",
    "        a.set_title(f'{style}')\n",
    "    return "
   ]
  },
  {
   "cell_type": "code",
   "execution_count": 35,
   "metadata": {},
   "outputs": [
    {
     "ename": "ValueError",
     "evalue": "a must be greater than 0 unless no samples are taken",
     "output_type": "error",
     "traceback": [
      "\u001b[0;31m---------------------------------------------------------------------------\u001b[0m",
      "\u001b[0;31mValueError\u001b[0m                                Traceback (most recent call last)",
      "Cell \u001b[0;32mIn[35], line 1\u001b[0m\n\u001b[0;32m----> 1\u001b[0m show_figure(\u001b[39m'\u001b[39;49m\u001b[39mApoidea\u001b[39;49m\u001b[39m'\u001b[39;49m, data[\u001b[39m'\u001b[39;49m\u001b[39mtrain_df\u001b[39;49m\u001b[39m'\u001b[39;49m])\n",
      "Cell \u001b[0;32mIn[34], line 12\u001b[0m, in \u001b[0;36mshow_figure\u001b[0;34m(label, df)\u001b[0m\n\u001b[1;32m      2\u001b[0m \u001b[39m\"\"\"\u001b[39;00m\n\u001b[1;32m      3\u001b[0m \u001b[39mplot ROWS*COLS random picture according to the given label.\u001b[39;00m\n\u001b[1;32m      4\u001b[0m \u001b[39m:param label: the category name\u001b[39;00m\n\u001b[0;32m   (...)\u001b[0m\n\u001b[1;32m      9\u001b[0m \u001b[39m...\u001b[39;00m\n\u001b[1;32m     10\u001b[0m \u001b[39m\"\"\"\u001b[39;00m\n\u001b[1;32m     11\u001b[0m ROWS, COLS \u001b[39m=\u001b[39m \u001b[39m3\u001b[39m,\u001b[39m3\u001b[39m\n\u001b[0;32m---> 12\u001b[0m new_sample \u001b[39m=\u001b[39m df\u001b[39m.\u001b[39;49mwhere(df[\u001b[39m\"\u001b[39;49m\u001b[39mCATEGORY\u001b[39;49m\u001b[39m\"\u001b[39;49m] \u001b[39m==\u001b[39;49m label)\u001b[39m.\u001b[39;49mdropna()\u001b[39m.\u001b[39;49msample(ROWS\u001b[39m*\u001b[39;49mCOLS, random_state\u001b[39m=\u001b[39;49m\u001b[39m2021\u001b[39;49m)\n\u001b[1;32m     13\u001b[0m fig, ax \u001b[39m=\u001b[39m plt\u001b[39m.\u001b[39msubplots(ROWS, COLS, figsize\u001b[39m=\u001b[39m(\u001b[39m20\u001b[39m, \u001b[39m20\u001b[39m))\n\u001b[1;32m     14\u001b[0m newsize \u001b[39m=\u001b[39m (\u001b[39m512\u001b[39m, \u001b[39m512\u001b[39m)\n",
      "File \u001b[0;32m~/miniconda3/envs/style-trans-fair/lib/python3.8/site-packages/pandas/core/generic.py:5773\u001b[0m, in \u001b[0;36mNDFrame.sample\u001b[0;34m(self, n, frac, replace, weights, random_state, axis, ignore_index)\u001b[0m\n\u001b[1;32m   5770\u001b[0m \u001b[39mif\u001b[39;00m weights \u001b[39mis\u001b[39;00m \u001b[39mnot\u001b[39;00m \u001b[39mNone\u001b[39;00m:\n\u001b[1;32m   5771\u001b[0m     weights \u001b[39m=\u001b[39m sample\u001b[39m.\u001b[39mpreprocess_weights(\u001b[39mself\u001b[39m, weights, axis)\n\u001b[0;32m-> 5773\u001b[0m sampled_indices \u001b[39m=\u001b[39m sample\u001b[39m.\u001b[39;49msample(obj_len, size, replace, weights, rs)\n\u001b[1;32m   5774\u001b[0m result \u001b[39m=\u001b[39m \u001b[39mself\u001b[39m\u001b[39m.\u001b[39mtake(sampled_indices, axis\u001b[39m=\u001b[39maxis)\n\u001b[1;32m   5776\u001b[0m \u001b[39mif\u001b[39;00m ignore_index:\n",
      "File \u001b[0;32m~/miniconda3/envs/style-trans-fair/lib/python3.8/site-packages/pandas/core/sample.py:150\u001b[0m, in \u001b[0;36msample\u001b[0;34m(obj_len, size, replace, weights, random_state)\u001b[0m\n\u001b[1;32m    147\u001b[0m     \u001b[39melse\u001b[39;00m:\n\u001b[1;32m    148\u001b[0m         \u001b[39mraise\u001b[39;00m \u001b[39mValueError\u001b[39;00m(\u001b[39m\"\u001b[39m\u001b[39mInvalid weights: weights sum to zero\u001b[39m\u001b[39m\"\u001b[39m)\n\u001b[0;32m--> 150\u001b[0m \u001b[39mreturn\u001b[39;00m random_state\u001b[39m.\u001b[39;49mchoice(obj_len, size\u001b[39m=\u001b[39;49msize, replace\u001b[39m=\u001b[39;49mreplace, p\u001b[39m=\u001b[39;49mweights)\u001b[39m.\u001b[39mastype(\n\u001b[1;32m    151\u001b[0m     np\u001b[39m.\u001b[39mintp, copy\u001b[39m=\u001b[39m\u001b[39mFalse\u001b[39;00m\n\u001b[1;32m    152\u001b[0m )\n",
      "File \u001b[0;32mmtrand.pyx:909\u001b[0m, in \u001b[0;36mnumpy.random.mtrand.RandomState.choice\u001b[0;34m()\u001b[0m\n",
      "\u001b[0;31mValueError\u001b[0m: a must be greater than 0 unless no samples are taken"
     ]
    }
   ],
   "source": [
    "show_figure('Apoidea', data['train_df'])"
   ]
  },
  {
   "cell_type": "markdown",
   "metadata": {},
   "source": [
    "For further exploratory data analysis, we analyze the RGB color model and plot the graph. We get the mean for each channel of each image, and save it in the columns of a dataframe."
   ]
  },
  {
   "cell_type": "code",
   "execution_count": 36,
   "metadata": {},
   "outputs": [
    {
     "ename": "IndexError",
     "evalue": "iloc cannot enlarge its target object",
     "output_type": "error",
     "traceback": [
      "\u001b[0;31m---------------------------------------------------------------------------\u001b[0m",
      "\u001b[0;31mIndexError\u001b[0m                                Traceback (most recent call last)",
      "Cell \u001b[0;32mIn[36], line 6\u001b[0m\n\u001b[1;32m      4\u001b[0m \u001b[39mfor\u001b[39;00m n, row \u001b[39min\u001b[39;00m data[\u001b[39m'\u001b[39m\u001b[39mtrain_df\u001b[39m\u001b[39m'\u001b[39m]\u001b[39m.\u001b[39miterrows():\n\u001b[1;32m      5\u001b[0m     img \u001b[39m=\u001b[39m Image\u001b[39m.\u001b[39mopen(image_dir\u001b[39m+\u001b[39mrow[\u001b[39m'\u001b[39m\u001b[39mFILE_NAME\u001b[39m\u001b[39m'\u001b[39m])\n\u001b[0;32m----> 6\u001b[0m     rgb\u001b[39m.\u001b[39miloc[n, :\u001b[39m3\u001b[39m] \u001b[39m=\u001b[39m np\u001b[39m.\u001b[39marray(img)\u001b[39m.\u001b[39mmean(axis\u001b[39m=\u001b[39m(\u001b[39m0\u001b[39m,\u001b[39m1\u001b[39m))\n\u001b[1;32m      7\u001b[0m     rgb\u001b[39m.\u001b[39miloc[n, \u001b[39m3\u001b[39m] \u001b[39m=\u001b[39m row[\u001b[39m'\u001b[39m\u001b[39mCATEGORY\u001b[39m\u001b[39m'\u001b[39m]\n\u001b[1;32m      8\u001b[0m     rgb\u001b[39m.\u001b[39miloc[n, \u001b[39m4\u001b[39m] \u001b[39m=\u001b[39m row[\u001b[39m'\u001b[39m\u001b[39mSTYLE\u001b[39m\u001b[39m'\u001b[39m]\n",
      "File \u001b[0;32m~/miniconda3/envs/style-trans-fair/lib/python3.8/site-packages/pandas/core/indexing.py:815\u001b[0m, in \u001b[0;36m_LocationIndexer.__setitem__\u001b[0;34m(self, key, value)\u001b[0m\n\u001b[1;32m    813\u001b[0m     key \u001b[39m=\u001b[39m com\u001b[39m.\u001b[39mapply_if_callable(key, \u001b[39mself\u001b[39m\u001b[39m.\u001b[39mobj)\n\u001b[1;32m    814\u001b[0m indexer \u001b[39m=\u001b[39m \u001b[39mself\u001b[39m\u001b[39m.\u001b[39m_get_setitem_indexer(key)\n\u001b[0;32m--> 815\u001b[0m \u001b[39mself\u001b[39;49m\u001b[39m.\u001b[39;49m_has_valid_setitem_indexer(key)\n\u001b[1;32m    817\u001b[0m iloc \u001b[39m=\u001b[39m \u001b[39mself\u001b[39m \u001b[39mif\u001b[39;00m \u001b[39mself\u001b[39m\u001b[39m.\u001b[39mname \u001b[39m==\u001b[39m \u001b[39m\"\u001b[39m\u001b[39miloc\u001b[39m\u001b[39m\"\u001b[39m \u001b[39melse\u001b[39;00m \u001b[39mself\u001b[39m\u001b[39m.\u001b[39mobj\u001b[39m.\u001b[39miloc\n\u001b[1;32m    818\u001b[0m iloc\u001b[39m.\u001b[39m_setitem_with_indexer(indexer, value, \u001b[39mself\u001b[39m\u001b[39m.\u001b[39mname)\n",
      "File \u001b[0;32m~/miniconda3/envs/style-trans-fair/lib/python3.8/site-packages/pandas/core/indexing.py:1518\u001b[0m, in \u001b[0;36m_iLocIndexer._has_valid_setitem_indexer\u001b[0;34m(self, indexer)\u001b[0m\n\u001b[1;32m   1516\u001b[0m \u001b[39melif\u001b[39;00m is_integer(i):\n\u001b[1;32m   1517\u001b[0m     \u001b[39mif\u001b[39;00m i \u001b[39m>\u001b[39m\u001b[39m=\u001b[39m \u001b[39mlen\u001b[39m(ax):\n\u001b[0;32m-> 1518\u001b[0m         \u001b[39mraise\u001b[39;00m \u001b[39mIndexError\u001b[39;00m(\u001b[39m\"\u001b[39m\u001b[39miloc cannot enlarge its target object\u001b[39m\u001b[39m\"\u001b[39m)\n\u001b[1;32m   1519\u001b[0m \u001b[39melif\u001b[39;00m \u001b[39misinstance\u001b[39m(i, \u001b[39mdict\u001b[39m):\n\u001b[1;32m   1520\u001b[0m     \u001b[39mraise\u001b[39;00m \u001b[39mIndexError\u001b[39;00m(\u001b[39m\"\u001b[39m\u001b[39miloc cannot enlarge its target object\u001b[39m\u001b[39m\"\u001b[39m)\n",
      "\u001b[0;31mIndexError\u001b[0m: iloc cannot enlarge its target object"
     ]
    }
   ],
   "source": [
    "rgb = pd.DataFrame(\n",
    "    np.zeros((len(data['train_df']), 5)), columns=list(\"RGB\") + [\"category\", \"style\"]\n",
    ")\n",
    "for n, row in data['train_df'].iterrows():\n",
    "    img = Image.open(image_dir+row['FILE_NAME'])\n",
    "    rgb.iloc[n, :3] = np.array(img).mean(axis=(0,1))\n",
    "    rgb.iloc[n, 3] = row['CATEGORY']\n",
    "    rgb.iloc[n, 4] = row['STYLE']\n",
    "rgb.head()"
   ]
  },
  {
   "attachments": {},
   "cell_type": "markdown",
   "metadata": {},
   "source": [
    "We also normalize each color vector, so that we only care about the direction of the color vector and not about its magnitude."
   ]
  },
  {
   "cell_type": "code",
   "execution_count": 16,
   "metadata": {},
   "outputs": [
    {
     "name": "stderr",
     "output_type": "stream",
     "text": [
      "/Users/ktgiahieu/miniconda3/envs/style-trans-fair/lib/python3.8/site-packages/sklearn/base.py:450: UserWarning: X does not have valid feature names, but PCA was fitted with feature names\n",
      "  warnings.warn(\n"
     ]
    }
   ],
   "source": [
    "pca = PCA(2)\n",
    "rgb[list(\"rgb\")] = rgb[list(\"RGB\")] / np.sqrt(\n",
    "    np.sum(np.square(rgb[list(\"RGB\")]), axis=1).values.reshape(-1, 1)\n",
    ") \n",
    "\n",
    "transformed_rgb = pca.fit_transform(rgb[list(\"rgb\")]) \n",
    "rgb[list(\"xy\")] = transformed_rgb \n",
    "red, green, blue = pca.transform(np.identity(3))"
   ]
  },
  {
   "cell_type": "code",
   "execution_count": 17,
   "metadata": {},
   "outputs": [
    {
     "data": {
      "image/png": "[encoded data removed]",
      "text/plain": [
       "<Figure size 1000x1000 with 1 Axes>"
      ]
     },
     "metadata": {},
     "output_type": "display_data"
    }
   ],
   "source": [
    "plot_data = rgb\n",
    "plt.figure(figsize=(10, 10))\n",
    "sns.scatterplot(x=\"x\", y=\"y\", hue=\"category\", data=plot_data, palette=\"Set1\")\n",
    "plt.arrow(0, 0, *blue, color=\"blue\")\n",
    "plt.arrow(0, 0, *green, color=\"green\")\n",
    "plt.arrow(0, 0, *red, color=\"red\")\n",
    "plt.title(\"RGB distribution\")\n",
    "plt.xlabel(\"First PC\")\n",
    "plt.ylabel(\"Second PC\")\n",
    "plt.legend()\n",
    "plt.show()"
   ]
  },
  {
   "attachments": {},
   "cell_type": "markdown",
   "metadata": {},
   "source": [
    "Next, we analyze the brightness of the images per category. We wanted to know which category has lower/higher brightness level so instead of using a simple mean for each RGB channel, we used a weighted mean that takes into account the perceived brightness by humans:\n",
    "- Red: 21.26% \n",
    "- Green: 71.52% \n",
    "- Blue: 7.22%"
   ]
  },
  {
   "cell_type": "code",
   "execution_count": 18,
   "metadata": {},
   "outputs": [
    {
     "data": {
      "text/html": [
       "<div>\n",
       "<style scoped>\n",
       "    .dataframe tbody tr th:only-of-type {\n",
       "        vertical-align: middle;\n",
       "    }\n",
       "\n",
       "    .dataframe tbody tr th {\n",
       "        vertical-align: top;\n",
       "    }\n",
       "\n",
       "    .dataframe thead th {\n",
       "        text-align: right;\n",
       "    }\n",
       "</style>\n",
       "<table border=\"1\" class=\"dataframe\">\n",
       "  <thead>\n",
       "    <tr style=\"text-align: right;\">\n",
       "      <th></th>\n",
       "      <th>R</th>\n",
       "      <th>G</th>\n",
       "      <th>B</th>\n",
       "      <th>category</th>\n",
       "      <th>style</th>\n",
       "      <th>r</th>\n",
       "      <th>g</th>\n",
       "      <th>b</th>\n",
       "      <th>x</th>\n",
       "      <th>y</th>\n",
       "      <th>brightness</th>\n",
       "    </tr>\n",
       "  </thead>\n",
       "  <tbody>\n",
       "    <tr>\n",
       "      <th>0</th>\n",
       "      <td>187.351169</td>\n",
       "      <td>124.471100</td>\n",
       "      <td>89.003436</td>\n",
       "      <td>Apoidea</td>\n",
       "      <td>autumn_leaves</td>\n",
       "      <td>0.774502</td>\n",
       "      <td>0.514558</td>\n",
       "      <td>0.367936</td>\n",
       "      <td>0.085765</td>\n",
       "      <td>0.000166</td>\n",
       "      <td>0.530504</td>\n",
       "    </tr>\n",
       "    <tr>\n",
       "      <th>1</th>\n",
       "      <td>213.919476</td>\n",
       "      <td>89.228809</td>\n",
       "      <td>40.741103</td>\n",
       "      <td>Apoidea</td>\n",
       "      <td>autumn_leaves</td>\n",
       "      <td>0.908995</td>\n",
       "      <td>0.379155</td>\n",
       "      <td>0.173119</td>\n",
       "      <td>0.346307</td>\n",
       "      <td>0.071479</td>\n",
       "      <td>0.440146</td>\n",
       "    </tr>\n",
       "    <tr>\n",
       "      <th>2</th>\n",
       "      <td>162.944221</td>\n",
       "      <td>90.158090</td>\n",
       "      <td>44.249067</td>\n",
       "      <td>Apoidea</td>\n",
       "      <td>autumn_leaves</td>\n",
       "      <td>0.851290</td>\n",
       "      <td>0.471024</td>\n",
       "      <td>0.231176</td>\n",
       "      <td>0.247863</td>\n",
       "      <td>0.001257</td>\n",
       "      <td>0.401246</td>\n",
       "    </tr>\n",
       "    <tr>\n",
       "      <th>3</th>\n",
       "      <td>197.753451</td>\n",
       "      <td>139.848040</td>\n",
       "      <td>99.678519</td>\n",
       "      <td>Apoidea</td>\n",
       "      <td>autumn_leaves</td>\n",
       "      <td>0.755028</td>\n",
       "      <td>0.533943</td>\n",
       "      <td>0.380575</td>\n",
       "      <td>0.060718</td>\n",
       "      <td>-0.016771</td>\n",
       "      <td>0.585327</td>\n",
       "    </tr>\n",
       "    <tr>\n",
       "      <th>4</th>\n",
       "      <td>167.631852</td>\n",
       "      <td>110.708336</td>\n",
       "      <td>40.358644</td>\n",
       "      <td>Apoidea</td>\n",
       "      <td>autumn_leaves</td>\n",
       "      <td>0.818100</td>\n",
       "      <td>0.540294</td>\n",
       "      <td>0.196964</td>\n",
       "      <td>0.242497</td>\n",
       "      <td>-0.082499</td>\n",
       "      <td>0.461690</td>\n",
       "    </tr>\n",
       "  </tbody>\n",
       "</table>\n",
       "</div>"
      ],
      "text/plain": [
       "            R           G          B category          style         r  \\\n",
       "0  187.351169  124.471100  89.003436  Apoidea  autumn_leaves  0.774502   \n",
       "1  213.919476   89.228809  40.741103  Apoidea  autumn_leaves  0.908995   \n",
       "2  162.944221   90.158090  44.249067  Apoidea  autumn_leaves  0.851290   \n",
       "3  197.753451  139.848040  99.678519  Apoidea  autumn_leaves  0.755028   \n",
       "4  167.631852  110.708336  40.358644  Apoidea  autumn_leaves  0.818100   \n",
       "\n",
       "          g         b         x         y  brightness  \n",
       "0  0.514558  0.367936  0.085765  0.000166    0.530504  \n",
       "1  0.379155  0.173119  0.346307  0.071479    0.440146  \n",
       "2  0.471024  0.231176  0.247863  0.001257    0.401246  \n",
       "3  0.533943  0.380575  0.060718 -0.016771    0.585327  \n",
       "4  0.540294  0.196964  0.242497 -0.082499    0.461690  "
      ]
     },
     "execution_count": 18,
     "metadata": {},
     "output_type": "execute_result"
    }
   ],
   "source": [
    "BRIGHTNESS_VECTOR = np.array([0.2126, 0.7152, 0.0722])\n",
    "rgb[\"brightness\"] = (\n",
    "    rgb[list(\"RGB\")] @ BRIGHTNESS_VECTOR / 255\n",
    ")\n",
    "rgb.head()"
   ]
  },
  {
   "cell_type": "markdown",
   "metadata": {},
   "source": [
    "Using the boxplot we could easily identify the minimum, maximum, interquartile range, median and the outliers. Here we ordered it in respect to their lower quartile (Q1) to make it more representative."
   ]
  },
  {
   "cell_type": "code",
   "execution_count": 19,
   "metadata": {},
   "outputs": [
    {
     "data": {
      "image/png": "[encoded data removed]",
      "text/plain": [
       "<Figure size 800x800 with 1 Axes>"
      ]
     },
     "metadata": {},
     "output_type": "display_data"
    }
   ],
   "source": [
    "plot_data = rgb[[\"category\", \"brightness\"]].copy()\n",
    "order = plot_data.groupby(\"category\")[\"brightness\"].quantile(0.25).sort_values().index.tolist()\n",
    "plt.figure(figsize=(8, 8))\n",
    "sns.boxplot(y=\"category\", x=\"brightness\", data=plot_data, order=order, palette=\"Set1\")\n",
    "plt.title(\"Luminance (perceived brightness)\") \n",
    "plt.show()"
   ]
  },
  {
   "cell_type": "code",
   "execution_count": 20,
   "metadata": {},
   "outputs": [
    {
     "data": {
      "image/png": "[encoded data removed]",
      "text/plain": [
       "<Figure size 640x480 with 1 Axes>"
      ]
     },
     "metadata": {},
     "output_type": "display_data"
    }
   ],
   "source": [
    "ax = pd.DataFrame(rgb.groupby(\"category\")[\"brightness\"].mean()).plot.barh()\n",
    "plt.xlabel(\"Brightness level\")\n",
    "plt.title(\"Plot of the brightness level\")\n",
    "plt.show()"
   ]
  },
  {
   "attachments": {},
   "cell_type": "markdown",
   "metadata": {},
   "source": [
    "From the graph above we can conclude that the category Elateroidea has the highest value in term of brightness level"
   ]
  },
  {
   "cell_type": "markdown",
   "metadata": {},
   "source": [
    "***\n",
    "# Step 2: Building a predictive model\n"
   ]
  },
  {
   "cell_type": "markdown",
   "metadata": {},
   "source": [
    "## Training a predictive model\n",
    "We provide an example of predictive model in the `sample_code_submission/` directory. \n",
    "You can change this model and use a better one to get a good score for the challenge\n"
   ]
  },
  {
   "cell_type": "markdown",
   "metadata": {},
   "source": [
    "**Install pre-requisites for using the model from Keras**\n",
    "\n",
    "Uncomment the next line"
   ]
  },
  {
   "cell_type": "code",
   "execution_count": 61,
   "metadata": {},
   "outputs": [],
   "source": [
    "from data_io import write\n",
    "from model import model"
   ]
  },
  {
   "cell_type": "markdown",
   "metadata": {},
   "source": [
    "<div style=\"background:#FFF\">\n",
    "an instance of the model (run the constructor) and attempt to reload a previously saved version from `sample_code_submission/`:\n",
    "</div>"
   ]
  },
  {
   "cell_type": "code",
   "execution_count": 62,
   "metadata": {},
   "outputs": [],
   "source": [
    "myModel = model()\n",
    "trained_model_name = model_dir + data_name\n",
    "# Uncomment the next line to re-load an already trained model\n",
    "#myModel = myModel.load(trained_model_name) "
   ]
  },
  {
   "cell_type": "markdown",
   "metadata": {},
   "source": [
    "<div style=\"background:#FFF\">\n",
    "    Train the model (unless you reloaded a trained model) and make predictions. \n",
    "</div>"
   ]
  },
  {
   "cell_type": "code",
   "execution_count": 63,
   "metadata": {},
   "outputs": [],
   "source": [
    "X_TRAIN = data[\"train_images\"]\n",
    "STYLE_TRAIN = data[\"train_styles\"]\n",
    "Y_TRAIN = data[\"train_labels_num\"]\n",
    "X_TEST = data[\"test_images\"]\n",
    "STYLE_TEST = data[\"test_styles\"]\n",
    "Y_TEST = data[\"test_labels_num\"]"
   ]
  },
  {
   "cell_type": "code",
   "execution_count": 64,
   "metadata": {},
   "outputs": [
    {
     "name": "stdout",
     "output_type": "stream",
     "text": [
      "FIT: dim(X)= [60, 22680]\n",
      "FIT: dim(y)= [60, 1]\n",
      "PREDICT: dim(X)= [60, 22680]\n",
      "PREDICT: dim(y)= [60, 1]\n",
      "PREDICT: dim(X)= [180, 22680]\n",
      "PREDICT: dim(y)= [180, 1]\n"
     ]
    }
   ],
   "source": [
    "if not(myModel.is_trained):\n",
    "    myModel.fit(X_TRAIN, Y_TRAIN)                     \n",
    "\n",
    "Y_hat_train = myModel.predict(X_TRAIN) # Optional, not really needed to test on taining examples\n",
    "Y_hat_test = myModel.predict(X_TEST)"
   ]
  },
  {
   "cell_type": "markdown",
   "metadata": {},
   "source": [
    "**Save the trained model** (will be ready to reload next time around) and save the prediction results. <br>"
   ]
  },
  {
   "cell_type": "code",
   "execution_count": 66,
   "metadata": {},
   "outputs": [],
   "source": [
    "myModel.save(trained_model_name)    "
   ]
  },
  {
   "cell_type": "markdown",
   "metadata": {},
   "source": [
    "**IMPORTANT:** if you save the trained model, it will be bundled with your sample code submission. Therefore your model will NOT be retrained on the challenge platform. Remove the pickle from the submission if you want the model to be retrained on the platform.\n",
    "\n",
    "**REQUIRED:** Trained model is required in the submission to codalab. "
   ]
  },
  {
   "cell_type": "code",
   "execution_count": 70,
   "metadata": {},
   "outputs": [
    {
     "name": "stdout",
     "output_type": "stream",
     "text": [
      "sample_result_submission/insect_challenge_test.predict\n",
      "sample_result_submission/insect_challenge_train.predict\n"
     ]
    }
   ],
   "source": [
    "result_name = result_dir + data_name\n",
    "from data_io import write\n",
    "write(result_name + '_train.predict', Y_hat_train)\n",
    "write(result_name + '_test.predict', Y_hat_test)\n",
    "\n",
    "!ls $result_name*"
   ]
  },
  {
   "cell_type": "markdown",
   "metadata": {},
   "source": [
    "## Scoring the results\n",
    "### Load the challenge metric\n",
    "\n",
    "**The metric chosen for your challenge** is identified in the \"metric.txt\" file found in the `scoring_program/` directory.\n",
    "<br> \n",
    "The function \"get_metric\" searches first for a metric having that name in my_metric.py, then in libscores.py, then in sklearn.metric.\n"
   ]
  },
  {
   "cell_type": "code",
   "execution_count": 71,
   "metadata": {},
   "outputs": [
    {
     "name": "stdout",
     "output_type": "stream",
     "text": [
      "Using scoring metric: geometric_mean_accuracy_metric\n"
     ]
    }
   ],
   "source": [
    "from libscores import get_metric\n",
    "metric_name, scoring_function = get_metric()\n",
    "print('Using scoring metric:', metric_name)\n",
    "# Uncomment the next line to display the code of the scoring metric\n",
    "#??scoring_function"
   ]
  },
  {
   "cell_type": "markdown",
   "metadata": {},
   "source": [
    "## Training performance"
   ]
  },
  {
   "cell_type": "code",
   "execution_count": 72,
   "metadata": {},
   "outputs": [
    {
     "name": "stdout",
     "output_type": "stream",
     "text": [
      "Training score for the geometric_mean_accuracy_metric metric = 1.0000\n",
      "Ideal score for the geometric_mean_accuracy_metric metric = 1.0000\n",
      "Test score for the geometric_mean_accuracy_metric metric = 0.1910\n"
     ]
    }
   ],
   "source": [
    "print('Training score for the', metric_name, 'metric = %5.4f' % scoring_function(Y_TRAIN, Y_hat_train, STYLE_TRAIN))\n",
    "print('Ideal score for the', metric_name, 'metric = %5.4f' % scoring_function(Y_TRAIN, Y_TRAIN, STYLE_TRAIN))\n",
    "\n",
    "print('Test score for the', metric_name, 'metric = %5.4f' % scoring_function(Y_TEST, Y_hat_test, STYLE_TEST))"
   ]
  },
  {
   "cell_type": "markdown",
   "metadata": {},
   "source": [
    "You can add here other scores and result visualization."
   ]
  },
  {
   "cell_type": "markdown",
   "metadata": {},
   "source": [
    "## Confusion matrix"
   ]
  },
  {
   "cell_type": "code",
   "execution_count": 73,
   "metadata": {
    "scrolled": true
   },
   "outputs": [],
   "source": [
    "from sklearn.metrics import confusion_matrix\n",
    "\n",
    "confusion_matrix = confusion_matrix(Y_TRAIN, Y_hat_train)"
   ]
  },
  {
   "cell_type": "code",
   "execution_count": 74,
   "metadata": {},
   "outputs": [
    {
     "data": {
      "text/plain": [
       "array([[20,  0,  0],\n",
       "       [ 0, 20,  0],\n",
       "       [ 0,  0, 20]])"
      ]
     },
     "execution_count": 74,
     "metadata": {},
     "output_type": "execute_result"
    }
   ],
   "source": [
    "confusion_matrix"
   ]
  },
  {
   "cell_type": "code",
   "execution_count": 75,
   "metadata": {},
   "outputs": [
    {
     "data": {
      "image/png": "[encoded data removed]",
      "text/plain": [
       "<Figure size 640x480 with 2 Axes>"
      ]
     },
     "metadata": {},
     "output_type": "display_data"
    }
   ],
   "source": [
    "df_cm = pd.DataFrame(confusion_matrix, range(confusion_matrix.shape[0]), range(confusion_matrix.shape[1]))\n",
    "sns.heatmap(df_cm, annot=True)\n",
    "plt.title(\"Train - Confustion Matrix\")\n",
    "plt.show()"
   ]
  },
  {
   "cell_type": "markdown",
   "metadata": {},
   "source": [
    "***\n",
    "# Step 3: Making a submission\n",
    "\n",
    "## Unit testing\n",
    "\n",
    "It is <b><span style=\"color:red\">important that you test your submission files before submitting them</span></b>. All you have to do to make a submission is modify the file <code>model.py</code> in the <code>sample_code_submission/</code> directory, then run this test to make sure everything works fine. This is the actual program that will be run on the server to test your submission. \n",
    "<br>\n",
    "Keep the sample code simple.<br>\n",
    "\n",
    "<code>python3</code> is required for this step"
   ]
  },
  {
   "cell_type": "code",
   "execution_count": 77,
   "metadata": {},
   "outputs": [
    {
     "name": "stdout",
     "output_type": "stream",
     "text": [
      "Using input_dir: /Users/ktgiahieu/Documents/style-trans-fair/starting_kit/sample_data/task1\n",
      "Using output_dir: /Users/ktgiahieu/Documents/style-trans-fair/starting_kit/sample_result_submission\n",
      "Using program_dir: /Users/ktgiahieu/Documents/style-trans-fair/starting_kit/ingestion_program\n",
      "Using submission_dir: /Users/ktgiahieu/Documents/style-trans-fair/starting_kit/sample_code_submission\n",
      "Data name: insect_challenge\n",
      "\n",
      "========== Ingestion program version 6 ==========\n",
      "\n",
      "************************************************\n",
      "******** Processing dataset Insect_challenge ********\n",
      "************************************************\n",
      "========= Reading and converting data ==========\n",
      "###-------------------------------------###\n",
      "### Checking Data\n",
      "###-------------------------------------###\n",
      "\n",
      "\n",
      "-------------------------------------\n",
      "[+] Your dataset is in perfect format\n",
      "-------------------------------------\n",
      "\n",
      "\n",
      "###-------------------------------------###\n",
      "### Loading Data\n",
      "###-------------------------------------###\n",
      "\n",
      "\n",
      "-------------------------------------\n",
      "[+] Data loaded successfully\n",
      "-------------------------------------\n",
      "\n",
      "\n",
      "###-------------------------------------###\n",
      "### Loading Images\n",
      "###-------------------------------------###\n",
      "\n",
      "\n",
      "/Users/ktgiahieu/Documents/style-trans-fair/starting_kit/ingestion_program/data_io.py:248: VisibleDeprecationWarning: Creating an ndarray from ragged nested sequences (which is a list-or-tuple of lists-or-tuples-or ndarrays with different lengths or shapes) is deprecated. If you meant to do this, you must specify 'dtype=object' when creating the ndarray.\n",
      "  data_dict['train_images'] = np.asarray(train_images)\n",
      "/Users/ktgiahieu/Documents/style-trans-fair/starting_kit/ingestion_program/data_io.py:249: VisibleDeprecationWarning: Creating an ndarray from ragged nested sequences (which is a list-or-tuple of lists-or-tuples-or ndarrays with different lengths or shapes) is deprecated. If you meant to do this, you must specify 'dtype=object' when creating the ndarray.\n",
      "  data_dict['test_images'] = np.asarray(test_images)\n",
      "-------------------------------------\n",
      "[+] Images loaded successfully\n",
      "-------------------------------------\n",
      "\n",
      "\n",
      "[+] Cumulated time budget (all tasks so far)  500.00 sec\n",
      "[+] Time budget for this task 500.00 sec\n",
      "[+] Remaining time after reading data 496.48 sec\n",
      "======== Creating model ==========\n",
      "**********************************************************\n",
      "****** Attempting to reload model to avoid training ******\n",
      "**********************************************************\n",
      "Model reloaded from: /Users/ktgiahieu/Documents/style-trans-fair/starting_kit/sample_code_submission/insect_challenge_model.pickle\n",
      "[+] Model reloaded, no need to train!\n",
      "PREDICT: dim(X)= [60, 22680]\n",
      "PREDICT: dim(y)= [60, 1]\n",
      "PREDICT: dim(X)= [180, 22680]\n",
      "PREDICT: dim(y)= [180, 1]\n",
      "[+] Prediction success, time spent so far  3.95 sec\n",
      "======== Saving results to: /Users/ktgiahieu/Documents/style-trans-fair/starting_kit/sample_result_submission\n",
      "[+] Results saved, time spent so far  3.95 sec\n",
      "[+] End cycle, time left 496.05 sec\n",
      "[+] Done\n",
      "[+] Overall time spent  5.42 sec ::  Overall time budget 500.00 sec\n"
     ]
    }
   ],
   "source": [
    "# !source activate python3; \n",
    "!python3 $problem_dir/ingestion.py $data_dir $result_dir $problem_dir $model_dir"
   ]
  },
  {
   "cell_type": "markdown",
   "metadata": {},
   "source": [
    "### Test scoring program"
   ]
  },
  {
   "cell_type": "code",
   "execution_count": 81,
   "metadata": {},
   "outputs": [
    {
     "name": "stdout",
     "output_type": "stream",
     "text": [
      "###-------------------------------------###\n",
      "### Using metric :  geometric_mean_accuracy_metric\n",
      "###-------------------------------------###\n",
      "\n",
      "\n",
      "sample_data/task1\n",
      "[-] CSV file Not Found\n",
      "Make sure your dataset is in this format: https://github.com/ihsaan-ullah/meta-album/tree/master/DataFormat\n",
      "Traceback (most recent call last):\n",
      "  File \"scoring_program//score.py\", line 85, in <module>\n",
      "    solution_names, solutions, styles = read_solutions(solution_dir)\n",
      "TypeError: cannot unpack non-iterable NoneType object\n"
     ]
    }
   ],
   "source": [
    "scoring_output_dir = 'scoring_output'\n",
    "!python3 $score_dir/score.py $data_dir $result_dir $scoring_output_dir"
   ]
  },
  {
   "cell_type": "markdown",
   "metadata": {},
   "source": [
    "# Prepare the submission"
   ]
  },
  {
   "cell_type": "code",
   "execution_count": 34,
   "metadata": {},
   "outputs": [
    {
     "name": "stdout",
     "output_type": "stream",
     "text": [
      "Submit this file to codalab:\n",
      "../sample_code_submission_23-01-17-15-26.zip\n"
     ]
    }
   ],
   "source": [
    "import datetime \n",
    "from data_io import zipdir\n",
    "the_date = datetime.datetime.now().strftime(\"%y-%m-%d-%H-%M\")\n",
    "sample_code_submission = '../sample_code_submission_' + the_date + '.zip'\n",
    "# sample_result_submission = '../sample_result_submission_' + the_date + '.zip'\n",
    "zipdir(sample_code_submission, model_dir)\n",
    "# zipdir(sample_result_submission, result_dir)\n",
    "print(\"Submit this file to codalab:\\n\" + sample_code_submission)"
   ]
  },
  {
   "cell_type": "code",
   "execution_count": null,
   "metadata": {},
   "outputs": [],
   "source": []
  }
 ],
 "metadata": {
  "kernelspec": {
   "display_name": "style-trans-fair",
   "language": "python",
   "name": "python3"
  },
  "language_info": {
   "codemirror_mode": {
    "name": "ipython",
    "version": 3
   },
   "file_extension": ".py",
   "mimetype": "text/x-python",
   "name": "python",
   "nbconvert_exporter": "python",
   "pygments_lexer": "ipython3",
   "version": "3.8.15"
  },
  "vscode": {
   "interpreter": {
    "hash": "3cbd974dc296b583d3833699839c7d0910845e9c76e734e5f42c99ff8eae1461"
   }
  }
 },
 "nbformat": 4,
 "nbformat_minor": 4
}
